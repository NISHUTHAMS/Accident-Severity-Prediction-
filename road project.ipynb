{
 "cells": [
  {
   "cell_type": "code",
   "execution_count": 2,
   "metadata": {},
   "outputs": [],
   "source": [
    "import pandas as pd\n",
    "import numpy as np\n",
    "import matplotlib.pyplot as plt\n",
    "import seaborn as sns\n",
    "%matplotlib inline\n",
    "from sklearn.preprocessing import StandardScaler"
   ]
  },
  {
   "cell_type": "code",
   "execution_count": 3,
   "metadata": {},
   "outputs": [],
   "source": [
    "accident23_df=pd.read_csv(r'C:\\Users\\prasad\\Downloads\\Accidents0514\\Accidents0514.csv', low_memory=False)"
   ]
  },
  {
   "cell_type": "markdown",
   "metadata": {},
   "source": [
    "# Droping Duplicates"
   ]
  },
  {
   "cell_type": "code",
   "execution_count": 4,
   "metadata": {},
   "outputs": [
    {
     "name": "stdout",
     "output_type": "stream",
     "text": [
      "(1640597, 32)\n"
     ]
    }
   ],
   "source": [
    "accident23_df=accident23_df.drop_duplicates()\n",
    "print(accident23_df.shape)"
   ]
  },
  {
   "cell_type": "markdown",
   "metadata": {},
   "source": [
    "# After importing dataset the first five instances of the dataset can be examined by using accident12_df.head():"
   ]
  },
  {
   "cell_type": "code",
   "execution_count": 5,
   "metadata": {},
   "outputs": [
    {
     "data": {
      "text/html": [
       "<div>\n",
       "<style scoped>\n",
       "    .dataframe tbody tr th:only-of-type {\n",
       "        vertical-align: middle;\n",
       "    }\n",
       "\n",
       "    .dataframe tbody tr th {\n",
       "        vertical-align: top;\n",
       "    }\n",
       "\n",
       "    .dataframe thead th {\n",
       "        text-align: right;\n",
       "    }\n",
       "</style>\n",
       "<table border=\"1\" class=\"dataframe\">\n",
       "  <thead>\n",
       "    <tr style=\"text-align: right;\">\n",
       "      <th></th>\n",
       "      <th>Accident_Index</th>\n",
       "      <th>Location_Easting_OSGR</th>\n",
       "      <th>Location_Northing_OSGR</th>\n",
       "      <th>Longitude</th>\n",
       "      <th>Latitude</th>\n",
       "      <th>Police_Force</th>\n",
       "      <th>Accident_Severity</th>\n",
       "      <th>Number_of_Vehicles</th>\n",
       "      <th>Number_of_Casualties</th>\n",
       "      <th>Date</th>\n",
       "      <th>...</th>\n",
       "      <th>Pedestrian_Crossing-Human_Control</th>\n",
       "      <th>Pedestrian_Crossing-Physical_Facilities</th>\n",
       "      <th>Light_Conditions</th>\n",
       "      <th>Weather_Conditions</th>\n",
       "      <th>Road_Surface_Conditions</th>\n",
       "      <th>Special_Conditions_at_Site</th>\n",
       "      <th>Carriageway_Hazards</th>\n",
       "      <th>Urban_or_Rural_Area</th>\n",
       "      <th>Did_Police_Officer_Attend_Scene_of_Accident</th>\n",
       "      <th>LSOA_of_Accident_Location</th>\n",
       "    </tr>\n",
       "  </thead>\n",
       "  <tbody>\n",
       "    <tr>\n",
       "      <th>0</th>\n",
       "      <td>200501BS00001</td>\n",
       "      <td>525680.0</td>\n",
       "      <td>178240.0</td>\n",
       "      <td>-0.191170</td>\n",
       "      <td>51.489096</td>\n",
       "      <td>1</td>\n",
       "      <td>2</td>\n",
       "      <td>1</td>\n",
       "      <td>1</td>\n",
       "      <td>04/01/2005</td>\n",
       "      <td>...</td>\n",
       "      <td>0</td>\n",
       "      <td>1</td>\n",
       "      <td>1</td>\n",
       "      <td>2</td>\n",
       "      <td>2</td>\n",
       "      <td>0</td>\n",
       "      <td>0</td>\n",
       "      <td>1</td>\n",
       "      <td>1</td>\n",
       "      <td>E01002849</td>\n",
       "    </tr>\n",
       "    <tr>\n",
       "      <th>1</th>\n",
       "      <td>200501BS00002</td>\n",
       "      <td>524170.0</td>\n",
       "      <td>181650.0</td>\n",
       "      <td>-0.211708</td>\n",
       "      <td>51.520075</td>\n",
       "      <td>1</td>\n",
       "      <td>3</td>\n",
       "      <td>1</td>\n",
       "      <td>1</td>\n",
       "      <td>05/01/2005</td>\n",
       "      <td>...</td>\n",
       "      <td>0</td>\n",
       "      <td>5</td>\n",
       "      <td>4</td>\n",
       "      <td>1</td>\n",
       "      <td>1</td>\n",
       "      <td>0</td>\n",
       "      <td>0</td>\n",
       "      <td>1</td>\n",
       "      <td>1</td>\n",
       "      <td>E01002909</td>\n",
       "    </tr>\n",
       "    <tr>\n",
       "      <th>2</th>\n",
       "      <td>200501BS00003</td>\n",
       "      <td>524520.0</td>\n",
       "      <td>182240.0</td>\n",
       "      <td>-0.206458</td>\n",
       "      <td>51.525301</td>\n",
       "      <td>1</td>\n",
       "      <td>3</td>\n",
       "      <td>2</td>\n",
       "      <td>1</td>\n",
       "      <td>06/01/2005</td>\n",
       "      <td>...</td>\n",
       "      <td>0</td>\n",
       "      <td>0</td>\n",
       "      <td>4</td>\n",
       "      <td>1</td>\n",
       "      <td>1</td>\n",
       "      <td>0</td>\n",
       "      <td>0</td>\n",
       "      <td>1</td>\n",
       "      <td>1</td>\n",
       "      <td>E01002857</td>\n",
       "    </tr>\n",
       "    <tr>\n",
       "      <th>3</th>\n",
       "      <td>200501BS00004</td>\n",
       "      <td>526900.0</td>\n",
       "      <td>177530.0</td>\n",
       "      <td>-0.173862</td>\n",
       "      <td>51.482442</td>\n",
       "      <td>1</td>\n",
       "      <td>3</td>\n",
       "      <td>1</td>\n",
       "      <td>1</td>\n",
       "      <td>07/01/2005</td>\n",
       "      <td>...</td>\n",
       "      <td>0</td>\n",
       "      <td>0</td>\n",
       "      <td>1</td>\n",
       "      <td>1</td>\n",
       "      <td>1</td>\n",
       "      <td>0</td>\n",
       "      <td>0</td>\n",
       "      <td>1</td>\n",
       "      <td>1</td>\n",
       "      <td>E01002840</td>\n",
       "    </tr>\n",
       "    <tr>\n",
       "      <th>4</th>\n",
       "      <td>200501BS00005</td>\n",
       "      <td>528060.0</td>\n",
       "      <td>179040.0</td>\n",
       "      <td>-0.156618</td>\n",
       "      <td>51.495752</td>\n",
       "      <td>1</td>\n",
       "      <td>3</td>\n",
       "      <td>1</td>\n",
       "      <td>1</td>\n",
       "      <td>10/01/2005</td>\n",
       "      <td>...</td>\n",
       "      <td>0</td>\n",
       "      <td>0</td>\n",
       "      <td>7</td>\n",
       "      <td>1</td>\n",
       "      <td>2</td>\n",
       "      <td>0</td>\n",
       "      <td>0</td>\n",
       "      <td>1</td>\n",
       "      <td>1</td>\n",
       "      <td>E01002863</td>\n",
       "    </tr>\n",
       "  </tbody>\n",
       "</table>\n",
       "<p>5 rows × 32 columns</p>\n",
       "</div>"
      ],
      "text/plain": [
       "  Accident_Index  Location_Easting_OSGR  Location_Northing_OSGR  Longitude  \\\n",
       "0  200501BS00001               525680.0                178240.0  -0.191170   \n",
       "1  200501BS00002               524170.0                181650.0  -0.211708   \n",
       "2  200501BS00003               524520.0                182240.0  -0.206458   \n",
       "3  200501BS00004               526900.0                177530.0  -0.173862   \n",
       "4  200501BS00005               528060.0                179040.0  -0.156618   \n",
       "\n",
       "    Latitude  Police_Force  Accident_Severity  Number_of_Vehicles  \\\n",
       "0  51.489096             1                  2                   1   \n",
       "1  51.520075             1                  3                   1   \n",
       "2  51.525301             1                  3                   2   \n",
       "3  51.482442             1                  3                   1   \n",
       "4  51.495752             1                  3                   1   \n",
       "\n",
       "   Number_of_Casualties        Date  ...  Pedestrian_Crossing-Human_Control  \\\n",
       "0                     1  04/01/2005  ...                                  0   \n",
       "1                     1  05/01/2005  ...                                  0   \n",
       "2                     1  06/01/2005  ...                                  0   \n",
       "3                     1  07/01/2005  ...                                  0   \n",
       "4                     1  10/01/2005  ...                                  0   \n",
       "\n",
       "  Pedestrian_Crossing-Physical_Facilities  Light_Conditions  \\\n",
       "0                                       1                 1   \n",
       "1                                       5                 4   \n",
       "2                                       0                 4   \n",
       "3                                       0                 1   \n",
       "4                                       0                 7   \n",
       "\n",
       "  Weather_Conditions  Road_Surface_Conditions  Special_Conditions_at_Site  \\\n",
       "0                  2                        2                           0   \n",
       "1                  1                        1                           0   \n",
       "2                  1                        1                           0   \n",
       "3                  1                        1                           0   \n",
       "4                  1                        2                           0   \n",
       "\n",
       "   Carriageway_Hazards  Urban_or_Rural_Area  \\\n",
       "0                    0                    1   \n",
       "1                    0                    1   \n",
       "2                    0                    1   \n",
       "3                    0                    1   \n",
       "4                    0                    1   \n",
       "\n",
       "   Did_Police_Officer_Attend_Scene_of_Accident  LSOA_of_Accident_Location  \n",
       "0                                            1                  E01002849  \n",
       "1                                            1                  E01002909  \n",
       "2                                            1                  E01002857  \n",
       "3                                            1                  E01002840  \n",
       "4                                            1                  E01002863  \n",
       "\n",
       "[5 rows x 32 columns]"
      ]
     },
     "execution_count": 5,
     "metadata": {},
     "output_type": "execute_result"
    }
   ],
   "source": [
    "accident23_df.head()"
   ]
  },
  {
   "cell_type": "markdown",
   "metadata": {},
   "source": [
    "# Counts The Accident Severity:"
   ]
  },
  {
   "cell_type": "code",
   "execution_count": 6,
   "metadata": {},
   "outputs": [
    {
     "data": {
      "text/plain": [
       "3    1397173\n",
       "2     222042\n",
       "1      21382\n",
       "Name: Accident_Severity, dtype: int64"
      ]
     },
     "execution_count": 6,
     "metadata": {},
     "output_type": "execute_result"
    }
   ],
   "source": [
    "accident23_df.Accident_Severity.value_counts()"
   ]
  },
  {
   "cell_type": "markdown",
   "metadata": {},
   "source": [
    "# Displaying The shape& size of the data set:"
   ]
  },
  {
   "cell_type": "code",
   "execution_count": 7,
   "metadata": {},
   "outputs": [
    {
     "data": {
      "text/plain": [
       "(1640597, 32)"
      ]
     },
     "execution_count": 7,
     "metadata": {},
     "output_type": "execute_result"
    }
   ],
   "source": [
    "accident23_df.shape"
   ]
  },
  {
   "cell_type": "code",
   "execution_count": 8,
   "metadata": {},
   "outputs": [
    {
     "name": "stdout",
     "output_type": "stream",
     "text": [
      "52499104\n"
     ]
    }
   ],
   "source": [
    "print(accident23_df.size)"
   ]
  },
  {
   "cell_type": "markdown",
   "metadata": {},
   "source": [
    "# Displaying the total coloumns"
   ]
  },
  {
   "cell_type": "code",
   "execution_count": 9,
   "metadata": {},
   "outputs": [
    {
     "name": "stdout",
     "output_type": "stream",
     "text": [
      "Index(['Accident_Index', 'Location_Easting_OSGR', 'Location_Northing_OSGR',\n",
      "       'Longitude', 'Latitude', 'Police_Force', 'Accident_Severity',\n",
      "       'Number_of_Vehicles', 'Number_of_Casualties', 'Date', 'Day_of_Week',\n",
      "       'Time', 'Local_Authority_(District)', 'Local_Authority_(Highway)',\n",
      "       '1st_Road_Class', '1st_Road_Number', 'Road_Type', 'Speed_limit',\n",
      "       'Junction_Detail', 'Junction_Control', '2nd_Road_Class',\n",
      "       '2nd_Road_Number', 'Pedestrian_Crossing-Human_Control',\n",
      "       'Pedestrian_Crossing-Physical_Facilities', 'Light_Conditions',\n",
      "       'Weather_Conditions', 'Road_Surface_Conditions',\n",
      "       'Special_Conditions_at_Site', 'Carriageway_Hazards',\n",
      "       'Urban_or_Rural_Area', 'Did_Police_Officer_Attend_Scene_of_Accident',\n",
      "       'LSOA_of_Accident_Location'],\n",
      "      dtype='object')\n"
     ]
    }
   ],
   "source": [
    "print(accident23_df.columns)"
   ]
  },
  {
   "cell_type": "markdown",
   "metadata": {},
   "source": [
    "# Drop The Column"
   ]
  },
  {
   "cell_type": "code",
   "execution_count": 10,
   "metadata": {},
   "outputs": [
    {
     "data": {
      "text/plain": [
       "(1640597, 31)"
      ]
     },
     "execution_count": 10,
     "metadata": {},
     "output_type": "execute_result"
    }
   ],
   "source": [
    "data=accident23_df.drop(axis=1,columns='LSOA_of_Accident_Location')\n",
    "data.shape  "
   ]
  },
  {
   "cell_type": "code",
   "execution_count": 11,
   "metadata": {},
   "outputs": [
    {
     "data": {
      "text/plain": [
       "Accident_Index                                   0\n",
       "Location_Easting_OSGR                          111\n",
       "Location_Northing_OSGR                         111\n",
       "Longitude                                      111\n",
       "Latitude                                       111\n",
       "Police_Force                                     0\n",
       "Accident_Severity                                0\n",
       "Number_of_Vehicles                               0\n",
       "Number_of_Casualties                             0\n",
       "Date                                             0\n",
       "Day_of_Week                                      0\n",
       "Time                                           133\n",
       "Local_Authority_(District)                       0\n",
       "Local_Authority_(Highway)                        0\n",
       "1st_Road_Class                                   0\n",
       "1st_Road_Number                                  0\n",
       "Road_Type                                        0\n",
       "Speed_limit                                      0\n",
       "Junction_Detail                                  0\n",
       "Junction_Control                                 0\n",
       "2nd_Road_Class                                   0\n",
       "2nd_Road_Number                                  0\n",
       "Pedestrian_Crossing-Human_Control                0\n",
       "Pedestrian_Crossing-Physical_Facilities          0\n",
       "Light_Conditions                                 0\n",
       "Weather_Conditions                               0\n",
       "Road_Surface_Conditions                          0\n",
       "Special_Conditions_at_Site                       0\n",
       "Carriageway_Hazards                              0\n",
       "Urban_or_Rural_Area                              0\n",
       "Did_Police_Officer_Attend_Scene_of_Accident      0\n",
       "dtype: int64"
      ]
     },
     "execution_count": 11,
     "metadata": {},
     "output_type": "execute_result"
    }
   ],
   "source": [
    "data.isnull().sum()"
   ]
  },
  {
   "cell_type": "code",
   "execution_count": 12,
   "metadata": {},
   "outputs": [
    {
     "data": {
      "text/plain": [
       "(1640353, 31)"
      ]
     },
     "execution_count": 12,
     "metadata": {},
     "output_type": "execute_result"
    }
   ],
   "source": [
    "data.dropna(inplace=True)\n",
    "data.shape"
   ]
  },
  {
   "cell_type": "markdown",
   "metadata": {},
   "source": [
    "# Displaying Numerical Data:"
   ]
  },
  {
   "cell_type": "code",
   "execution_count": 13,
   "metadata": {},
   "outputs": [
    {
     "data": {
      "text/plain": [
       "Index(['Location_Easting_OSGR', 'Location_Northing_OSGR', 'Longitude',\n",
       "       'Latitude'],\n",
       "      dtype='object')"
      ]
     },
     "execution_count": 13,
     "metadata": {},
     "output_type": "execute_result"
    }
   ],
   "source": [
    "numerical=accident23_df.columns[accident23_df.dtypes==(np.float64 or np.int64)]\n",
    "numerical"
   ]
  },
  {
   "cell_type": "markdown",
   "metadata": {},
   "source": [
    "# Displaying Categorical data:"
   ]
  },
  {
   "cell_type": "code",
   "execution_count": 14,
   "metadata": {},
   "outputs": [
    {
     "data": {
      "text/plain": [
       "Index(['Accident_Index', 'Date', 'Time', 'Local_Authority_(Highway)'], dtype='object')"
      ]
     },
     "execution_count": 14,
     "metadata": {},
     "output_type": "execute_result"
    }
   ],
   "source": [
    "cat=data.columns[data.dtypes=='object']\n",
    "cat"
   ]
  },
  {
   "cell_type": "code",
   "execution_count": 15,
   "metadata": {},
   "outputs": [
    {
     "data": {
      "text/html": [
       "<div>\n",
       "<style scoped>\n",
       "    .dataframe tbody tr th:only-of-type {\n",
       "        vertical-align: middle;\n",
       "    }\n",
       "\n",
       "    .dataframe tbody tr th {\n",
       "        vertical-align: top;\n",
       "    }\n",
       "\n",
       "    .dataframe thead th {\n",
       "        text-align: right;\n",
       "    }\n",
       "</style>\n",
       "<table border=\"1\" class=\"dataframe\">\n",
       "  <thead>\n",
       "    <tr style=\"text-align: right;\">\n",
       "      <th></th>\n",
       "      <th>Accident_Index</th>\n",
       "      <th>Date</th>\n",
       "      <th>Time</th>\n",
       "      <th>Local_Authority_(Highway)</th>\n",
       "    </tr>\n",
       "  </thead>\n",
       "  <tbody>\n",
       "    <tr>\n",
       "      <th>0</th>\n",
       "      <td>200501BS00001</td>\n",
       "      <td>04/01/2005</td>\n",
       "      <td>17:42</td>\n",
       "      <td>E09000020</td>\n",
       "    </tr>\n",
       "    <tr>\n",
       "      <th>1</th>\n",
       "      <td>200501BS00002</td>\n",
       "      <td>05/01/2005</td>\n",
       "      <td>17:36</td>\n",
       "      <td>E09000020</td>\n",
       "    </tr>\n",
       "    <tr>\n",
       "      <th>2</th>\n",
       "      <td>200501BS00003</td>\n",
       "      <td>06/01/2005</td>\n",
       "      <td>00:15</td>\n",
       "      <td>E09000020</td>\n",
       "    </tr>\n",
       "    <tr>\n",
       "      <th>3</th>\n",
       "      <td>200501BS00004</td>\n",
       "      <td>07/01/2005</td>\n",
       "      <td>10:35</td>\n",
       "      <td>E09000020</td>\n",
       "    </tr>\n",
       "    <tr>\n",
       "      <th>4</th>\n",
       "      <td>200501BS00005</td>\n",
       "      <td>10/01/2005</td>\n",
       "      <td>21:13</td>\n",
       "      <td>E09000020</td>\n",
       "    </tr>\n",
       "  </tbody>\n",
       "</table>\n",
       "</div>"
      ],
      "text/plain": [
       "  Accident_Index        Date   Time Local_Authority_(Highway)\n",
       "0  200501BS00001  04/01/2005  17:42                 E09000020\n",
       "1  200501BS00002  05/01/2005  17:36                 E09000020\n",
       "2  200501BS00003  06/01/2005  00:15                 E09000020\n",
       "3  200501BS00004  07/01/2005  10:35                 E09000020\n",
       "4  200501BS00005  10/01/2005  21:13                 E09000020"
      ]
     },
     "execution_count": 15,
     "metadata": {},
     "output_type": "execute_result"
    }
   ],
   "source": [
    "accident23_df[cat].head()"
   ]
  },
  {
   "cell_type": "markdown",
   "metadata": {},
   "source": [
    "# Drop the unnecessary columns"
   ]
  },
  {
   "cell_type": "code",
   "execution_count": null,
   "metadata": {},
   "outputs": [],
   "source": [
    "data_df=data.drop(['Location_Northing_OSGR','Longitude','Location_Easting_OSGR','Latitude','Longitude','Local_Authority_(District)','Local_Authority_(Highway)','1st_Road_Class','1st_Road_Number','2nd_Road_Class','2nd_Road_Number','Carriageway_Hazards'],axis='columns')"
   ]
  },
  {
   "cell_type": "code",
   "execution_count": 17,
   "metadata": {},
   "outputs": [
    {
     "data": {
      "text/plain": [
       "(1640353, 20)"
      ]
     },
     "execution_count": 17,
     "metadata": {},
     "output_type": "execute_result"
    }
   ],
   "source": [
    "data_df.shape"
   ]
  },
  {
   "cell_type": "markdown",
   "metadata": {},
   "source": [
    "# After that the information of the data is gained by using data_df.describe(). It is shown as follows:"
   ]
  },
  {
   "cell_type": "code",
   "execution_count": 18,
   "metadata": {},
   "outputs": [
    {
     "data": {
      "text/html": [
       "<div>\n",
       "<style scoped>\n",
       "    .dataframe tbody tr th:only-of-type {\n",
       "        vertical-align: middle;\n",
       "    }\n",
       "\n",
       "    .dataframe tbody tr th {\n",
       "        vertical-align: top;\n",
       "    }\n",
       "\n",
       "    .dataframe thead th {\n",
       "        text-align: right;\n",
       "    }\n",
       "</style>\n",
       "<table border=\"1\" class=\"dataframe\">\n",
       "  <thead>\n",
       "    <tr style=\"text-align: right;\">\n",
       "      <th></th>\n",
       "      <th>Police_Force</th>\n",
       "      <th>Accident_Severity</th>\n",
       "      <th>Number_of_Vehicles</th>\n",
       "      <th>Number_of_Casualties</th>\n",
       "      <th>Day_of_Week</th>\n",
       "      <th>Road_Type</th>\n",
       "      <th>Speed_limit</th>\n",
       "      <th>Junction_Detail</th>\n",
       "      <th>Junction_Control</th>\n",
       "      <th>Pedestrian_Crossing-Human_Control</th>\n",
       "      <th>Pedestrian_Crossing-Physical_Facilities</th>\n",
       "      <th>Light_Conditions</th>\n",
       "      <th>Weather_Conditions</th>\n",
       "      <th>Road_Surface_Conditions</th>\n",
       "      <th>Special_Conditions_at_Site</th>\n",
       "      <th>Urban_or_Rural_Area</th>\n",
       "      <th>Did_Police_Officer_Attend_Scene_of_Accident</th>\n",
       "    </tr>\n",
       "  </thead>\n",
       "  <tbody>\n",
       "    <tr>\n",
       "      <th>count</th>\n",
       "      <td>1.640353e+06</td>\n",
       "      <td>1.640353e+06</td>\n",
       "      <td>1.640353e+06</td>\n",
       "      <td>1.640353e+06</td>\n",
       "      <td>1.640353e+06</td>\n",
       "      <td>1.640353e+06</td>\n",
       "      <td>1.640353e+06</td>\n",
       "      <td>1.640353e+06</td>\n",
       "      <td>1.640353e+06</td>\n",
       "      <td>1.640353e+06</td>\n",
       "      <td>1.640353e+06</td>\n",
       "      <td>1.640353e+06</td>\n",
       "      <td>1.640353e+06</td>\n",
       "      <td>1.640353e+06</td>\n",
       "      <td>1.640353e+06</td>\n",
       "      <td>1.640353e+06</td>\n",
       "      <td>1.640353e+06</td>\n",
       "    </tr>\n",
       "    <tr>\n",
       "      <th>mean</th>\n",
       "      <td>3.082039e+01</td>\n",
       "      <td>2.838594e+00</td>\n",
       "      <td>1.831316e+00</td>\n",
       "      <td>1.351185e+00</td>\n",
       "      <td>4.117033e+00</td>\n",
       "      <td>5.166785e+00</td>\n",
       "      <td>3.910031e+01</td>\n",
       "      <td>2.337483e+00</td>\n",
       "      <td>1.812269e+00</td>\n",
       "      <td>9.434555e-03</td>\n",
       "      <td>7.288559e-01</td>\n",
       "      <td>1.950367e+00</td>\n",
       "      <td>1.581132e+00</td>\n",
       "      <td>1.363474e+00</td>\n",
       "      <td>1.099306e-01</td>\n",
       "      <td>1.357312e+00</td>\n",
       "      <td>1.193019e+00</td>\n",
       "    </tr>\n",
       "    <tr>\n",
       "      <th>std</th>\n",
       "      <td>2.553622e+01</td>\n",
       "      <td>4.017744e-01</td>\n",
       "      <td>7.152835e-01</td>\n",
       "      <td>8.261257e-01</td>\n",
       "      <td>1.924820e+00</td>\n",
       "      <td>1.644804e+00</td>\n",
       "      <td>1.417735e+01</td>\n",
       "      <td>2.578922e+00</td>\n",
       "      <td>2.305298e+00</td>\n",
       "      <td>1.279773e-01</td>\n",
       "      <td>1.808604e+00</td>\n",
       "      <td>1.647952e+00</td>\n",
       "      <td>1.652233e+00</td>\n",
       "      <td>6.296057e-01</td>\n",
       "      <td>7.331475e-01</td>\n",
       "      <td>4.792536e-01</td>\n",
       "      <td>4.007577e-01</td>\n",
       "    </tr>\n",
       "    <tr>\n",
       "      <th>min</th>\n",
       "      <td>1.000000e+00</td>\n",
       "      <td>1.000000e+00</td>\n",
       "      <td>1.000000e+00</td>\n",
       "      <td>1.000000e+00</td>\n",
       "      <td>1.000000e+00</td>\n",
       "      <td>1.000000e+00</td>\n",
       "      <td>1.000000e+01</td>\n",
       "      <td>-1.000000e+00</td>\n",
       "      <td>-1.000000e+00</td>\n",
       "      <td>-1.000000e+00</td>\n",
       "      <td>-1.000000e+00</td>\n",
       "      <td>1.000000e+00</td>\n",
       "      <td>-1.000000e+00</td>\n",
       "      <td>-1.000000e+00</td>\n",
       "      <td>-1.000000e+00</td>\n",
       "      <td>1.000000e+00</td>\n",
       "      <td>-1.000000e+00</td>\n",
       "    </tr>\n",
       "    <tr>\n",
       "      <th>25%</th>\n",
       "      <td>7.000000e+00</td>\n",
       "      <td>3.000000e+00</td>\n",
       "      <td>1.000000e+00</td>\n",
       "      <td>1.000000e+00</td>\n",
       "      <td>2.000000e+00</td>\n",
       "      <td>6.000000e+00</td>\n",
       "      <td>3.000000e+01</td>\n",
       "      <td>0.000000e+00</td>\n",
       "      <td>-1.000000e+00</td>\n",
       "      <td>0.000000e+00</td>\n",
       "      <td>0.000000e+00</td>\n",
       "      <td>1.000000e+00</td>\n",
       "      <td>1.000000e+00</td>\n",
       "      <td>1.000000e+00</td>\n",
       "      <td>0.000000e+00</td>\n",
       "      <td>1.000000e+00</td>\n",
       "      <td>1.000000e+00</td>\n",
       "    </tr>\n",
       "    <tr>\n",
       "      <th>50%</th>\n",
       "      <td>3.100000e+01</td>\n",
       "      <td>3.000000e+00</td>\n",
       "      <td>2.000000e+00</td>\n",
       "      <td>1.000000e+00</td>\n",
       "      <td>4.000000e+00</td>\n",
       "      <td>6.000000e+00</td>\n",
       "      <td>3.000000e+01</td>\n",
       "      <td>3.000000e+00</td>\n",
       "      <td>2.000000e+00</td>\n",
       "      <td>0.000000e+00</td>\n",
       "      <td>0.000000e+00</td>\n",
       "      <td>1.000000e+00</td>\n",
       "      <td>1.000000e+00</td>\n",
       "      <td>1.000000e+00</td>\n",
       "      <td>0.000000e+00</td>\n",
       "      <td>1.000000e+00</td>\n",
       "      <td>1.000000e+00</td>\n",
       "    </tr>\n",
       "    <tr>\n",
       "      <th>75%</th>\n",
       "      <td>4.600000e+01</td>\n",
       "      <td>3.000000e+00</td>\n",
       "      <td>2.000000e+00</td>\n",
       "      <td>1.000000e+00</td>\n",
       "      <td>6.000000e+00</td>\n",
       "      <td>6.000000e+00</td>\n",
       "      <td>5.000000e+01</td>\n",
       "      <td>3.000000e+00</td>\n",
       "      <td>4.000000e+00</td>\n",
       "      <td>0.000000e+00</td>\n",
       "      <td>0.000000e+00</td>\n",
       "      <td>4.000000e+00</td>\n",
       "      <td>1.000000e+00</td>\n",
       "      <td>2.000000e+00</td>\n",
       "      <td>0.000000e+00</td>\n",
       "      <td>2.000000e+00</td>\n",
       "      <td>1.000000e+00</td>\n",
       "    </tr>\n",
       "    <tr>\n",
       "      <th>max</th>\n",
       "      <td>9.800000e+01</td>\n",
       "      <td>3.000000e+00</td>\n",
       "      <td>6.700000e+01</td>\n",
       "      <td>9.300000e+01</td>\n",
       "      <td>7.000000e+00</td>\n",
       "      <td>9.000000e+00</td>\n",
       "      <td>7.000000e+01</td>\n",
       "      <td>9.000000e+00</td>\n",
       "      <td>4.000000e+00</td>\n",
       "      <td>2.000000e+00</td>\n",
       "      <td>8.000000e+00</td>\n",
       "      <td>7.000000e+00</td>\n",
       "      <td>9.000000e+00</td>\n",
       "      <td>5.000000e+00</td>\n",
       "      <td>7.000000e+00</td>\n",
       "      <td>3.000000e+00</td>\n",
       "      <td>3.000000e+00</td>\n",
       "    </tr>\n",
       "  </tbody>\n",
       "</table>\n",
       "</div>"
      ],
      "text/plain": [
       "       Police_Force  Accident_Severity  Number_of_Vehicles  \\\n",
       "count  1.640353e+06       1.640353e+06        1.640353e+06   \n",
       "mean   3.082039e+01       2.838594e+00        1.831316e+00   \n",
       "std    2.553622e+01       4.017744e-01        7.152835e-01   \n",
       "min    1.000000e+00       1.000000e+00        1.000000e+00   \n",
       "25%    7.000000e+00       3.000000e+00        1.000000e+00   \n",
       "50%    3.100000e+01       3.000000e+00        2.000000e+00   \n",
       "75%    4.600000e+01       3.000000e+00        2.000000e+00   \n",
       "max    9.800000e+01       3.000000e+00        6.700000e+01   \n",
       "\n",
       "       Number_of_Casualties   Day_of_Week     Road_Type   Speed_limit  \\\n",
       "count          1.640353e+06  1.640353e+06  1.640353e+06  1.640353e+06   \n",
       "mean           1.351185e+00  4.117033e+00  5.166785e+00  3.910031e+01   \n",
       "std            8.261257e-01  1.924820e+00  1.644804e+00  1.417735e+01   \n",
       "min            1.000000e+00  1.000000e+00  1.000000e+00  1.000000e+01   \n",
       "25%            1.000000e+00  2.000000e+00  6.000000e+00  3.000000e+01   \n",
       "50%            1.000000e+00  4.000000e+00  6.000000e+00  3.000000e+01   \n",
       "75%            1.000000e+00  6.000000e+00  6.000000e+00  5.000000e+01   \n",
       "max            9.300000e+01  7.000000e+00  9.000000e+00  7.000000e+01   \n",
       "\n",
       "       Junction_Detail  Junction_Control  Pedestrian_Crossing-Human_Control  \\\n",
       "count     1.640353e+06      1.640353e+06                       1.640353e+06   \n",
       "mean      2.337483e+00      1.812269e+00                       9.434555e-03   \n",
       "std       2.578922e+00      2.305298e+00                       1.279773e-01   \n",
       "min      -1.000000e+00     -1.000000e+00                      -1.000000e+00   \n",
       "25%       0.000000e+00     -1.000000e+00                       0.000000e+00   \n",
       "50%       3.000000e+00      2.000000e+00                       0.000000e+00   \n",
       "75%       3.000000e+00      4.000000e+00                       0.000000e+00   \n",
       "max       9.000000e+00      4.000000e+00                       2.000000e+00   \n",
       "\n",
       "       Pedestrian_Crossing-Physical_Facilities  Light_Conditions  \\\n",
       "count                             1.640353e+06      1.640353e+06   \n",
       "mean                              7.288559e-01      1.950367e+00   \n",
       "std                               1.808604e+00      1.647952e+00   \n",
       "min                              -1.000000e+00      1.000000e+00   \n",
       "25%                               0.000000e+00      1.000000e+00   \n",
       "50%                               0.000000e+00      1.000000e+00   \n",
       "75%                               0.000000e+00      4.000000e+00   \n",
       "max                               8.000000e+00      7.000000e+00   \n",
       "\n",
       "       Weather_Conditions  Road_Surface_Conditions  \\\n",
       "count        1.640353e+06             1.640353e+06   \n",
       "mean         1.581132e+00             1.363474e+00   \n",
       "std          1.652233e+00             6.296057e-01   \n",
       "min         -1.000000e+00            -1.000000e+00   \n",
       "25%          1.000000e+00             1.000000e+00   \n",
       "50%          1.000000e+00             1.000000e+00   \n",
       "75%          1.000000e+00             2.000000e+00   \n",
       "max          9.000000e+00             5.000000e+00   \n",
       "\n",
       "       Special_Conditions_at_Site  Urban_or_Rural_Area  \\\n",
       "count                1.640353e+06         1.640353e+06   \n",
       "mean                 1.099306e-01         1.357312e+00   \n",
       "std                  7.331475e-01         4.792536e-01   \n",
       "min                 -1.000000e+00         1.000000e+00   \n",
       "25%                  0.000000e+00         1.000000e+00   \n",
       "50%                  0.000000e+00         1.000000e+00   \n",
       "75%                  0.000000e+00         2.000000e+00   \n",
       "max                  7.000000e+00         3.000000e+00   \n",
       "\n",
       "       Did_Police_Officer_Attend_Scene_of_Accident  \n",
       "count                                 1.640353e+06  \n",
       "mean                                  1.193019e+00  \n",
       "std                                   4.007577e-01  \n",
       "min                                  -1.000000e+00  \n",
       "25%                                   1.000000e+00  \n",
       "50%                                   1.000000e+00  \n",
       "75%                                   1.000000e+00  \n",
       "max                                   3.000000e+00  "
      ]
     },
     "execution_count": 18,
     "metadata": {},
     "output_type": "execute_result"
    }
   ],
   "source": [
    "data_df.describe()"
   ]
  },
  {
   "cell_type": "markdown",
   "metadata": {},
   "source": [
    "# Converting Time in hours into minute:"
   ]
  },
  {
   "cell_type": "code",
   "execution_count": 19,
   "metadata": {},
   "outputs": [],
   "source": [
    "target=data_df['Accident_Severity']\n",
    "features=data_df.drop(columns='Accident_Severity')"
   ]
  },
  {
   "cell_type": "code",
   "execution_count": 20,
   "metadata": {},
   "outputs": [],
   "source": [
    "def mins(x):\n",
    "    l=x.split(':')\n",
    "    l=[int(i) for i in l]\n",
    "    return l[0]*60+l[1]"
   ]
  },
  {
   "cell_type": "code",
   "execution_count": 21,
   "metadata": {},
   "outputs": [],
   "source": [
    "features.Time=features.Time.apply(mins)"
   ]
  },
  {
   "cell_type": "code",
   "execution_count": 22,
   "metadata": {},
   "outputs": [
    {
     "data": {
      "text/plain": [
       "0    1062\n",
       "1    1056\n",
       "2      15\n",
       "3     635\n",
       "4    1273\n",
       "Name: Time, dtype: int64"
      ]
     },
     "execution_count": 22,
     "metadata": {},
     "output_type": "execute_result"
    }
   ],
   "source": [
    "features.Time.head()"
   ]
  },
  {
   "cell_type": "code",
   "execution_count": 23,
   "metadata": {},
   "outputs": [],
   "source": [
    "features.drop(['Date','Accident_Index'],axis=1,inplace=True)"
   ]
  },
  {
   "cell_type": "code",
   "execution_count": 24,
   "metadata": {},
   "outputs": [
    {
     "data": {
      "text/plain": [
       "((1640353,), (1640353, 17))"
      ]
     },
     "execution_count": 24,
     "metadata": {},
     "output_type": "execute_result"
    }
   ],
   "source": [
    "target.shape,features.shape"
   ]
  },
  {
   "cell_type": "markdown",
   "metadata": {},
   "source": [
    "# Spliting The Data Set:"
   ]
  },
  {
   "cell_type": "code",
   "execution_count": 25,
   "metadata": {},
   "outputs": [],
   "source": [
    "from sklearn.model_selection import train_test_split\n",
    "x_train,x_test,y_train,y_test=train_test_split(features,target,test_size=0.2,random_state=42)"
   ]
  },
  {
   "cell_type": "code",
   "execution_count": 26,
   "metadata": {},
   "outputs": [
    {
     "data": {
      "text/plain": [
       "((1312282, 17), (1312282,))"
      ]
     },
     "execution_count": 26,
     "metadata": {},
     "output_type": "execute_result"
    }
   ],
   "source": [
    "x_train.shape,y_train.shape"
   ]
  },
  {
   "cell_type": "code",
   "execution_count": 27,
   "metadata": {},
   "outputs": [
    {
     "data": {
      "text/plain": [
       "((328071, 17), (328071,))"
      ]
     },
     "execution_count": 27,
     "metadata": {},
     "output_type": "execute_result"
    }
   ],
   "source": [
    "x_test.shape,y_test.shape"
   ]
  },
  {
   "cell_type": "code",
   "execution_count": 1,
   "metadata": {},
   "outputs": [],
   "source": [
    "from sklearn.metrics import f1_score"
   ]
  },
  {
   "cell_type": "code",
   "execution_count": 37,
   "metadata": {},
   "outputs": [
    {
     "name": "stdout",
     "output_type": "stream",
     "text": [
      "RandomForestClassifier f1_score:  0.8294820328526448\n"
     ]
    }
   ],
   "source": [
    "from sklearn.ensemble import RandomForestClassifier\n",
    "\n",
    "rfc=RandomForestClassifier(random_state=42)\n",
    "\n",
    "rfc.fit(x_train,y_train)\n",
    "\n",
    "pred=rfc.predict(x_test)\n",
    "\n",
    "print(\"RandomForestClassifier f1_score: \",f1_score(y_test,pred,average=\"micro\"))"
   ]
  },
  {
   "cell_type": "code",
   "execution_count": 30,
   "metadata": {},
   "outputs": [
    {
     "name": "stdout",
     "output_type": "stream",
     "text": [
      "Navie-Bayes f1_score 0.7896248068253519\n"
     ]
    }
   ],
   "source": [
    "from sklearn.naive_bayes import GaussianNB\n",
    "\n",
    "gnb=GaussianNB()\n",
    "\n",
    "gnb.fit(x_train,y_train)\n",
    "\n",
    "pred=gnb.predict(x_test)\n",
    "\n",
    "print('Navie-Bayes f1_score',f1_score(y_test,pred,average='micro'))"
   ]
  },
  {
   "cell_type": "code",
   "execution_count": 13,
   "metadata": {},
   "outputs": [
    {
     "name": "stdout",
     "output_type": "stream",
     "text": [
      "Logistic Regression F1 Score: 1.0\n"
     ]
    }
   ],
   "source": [
    "from sklearn.linear_model import LogisticRegression\n",
    "from sklearn.preprocessing import StandardScaler\n",
    "from sklearn.metrics import f1_score\n",
    "\n",
    "# Scale the data\n",
    "scaler = StandardScaler()\n",
    "x_train_scaled = scaler.fit_transform(x_train)\n",
    "x_test_scaled = scaler.transform(x_test)\n",
    "\n",
    "# Initialize and fit the logistic regression model\n",
    "lgr = LogisticRegression(solver='lbfgs', max_iter=200)\n",
    "lgr.fit(x_train_scaled, y_train)\n",
    "\n",
    "# Make predictions\n",
    "pred = lgr.predict(x_test_scaled)\n",
    "\n",
    "# Calculate and print the F1 score\n",
    "print(\"Logistic Regression F1 Score:\", f1_score(y_test, pred, average='micro'))\n"
   ]
  },
  {
   "cell_type": "code",
   "execution_count": 15,
   "metadata": {},
   "outputs": [
    {
     "name": "stdout",
     "output_type": "stream",
     "text": [
      "sdgcclassifier f1_score 0.6\n"
     ]
    }
   ],
   "source": [
    "\n",
    "from sklearn.linear_model import SGDClassifier\n",
    "\n",
    "from sklearn.metrics import f1_score\n",
    "\n",
    "sdgc=SGDClassifier(random_state=42)\n",
    "\n",
    "sdgc.fit(x_train,y_train)\n",
    "\n",
    "pred=sdgc.predict(x_test)\n",
    "\n",
    "print(\"sdgcclassifier f1_score\",f1_score(y_test,pred,average='micro'))"
   ]
  },
  {
   "cell_type": "code",
   "execution_count": 36,
   "metadata": {},
   "outputs": [
    {
     "name": "stdout",
     "output_type": "stream",
     "text": [
      "adaboostClassifier f1_score 0.8518369499285215\n"
     ]
    }
   ],
   "source": [
    "from sklearn.ensemble import AdaBoostClassifier\n",
    "\n",
    "adaboost=AdaBoostClassifier(random_state=42)\n",
    "\n",
    "adaboost.fit(x_train,y_train)\n",
    "\n",
    "pred=adaboost.predict(x_test)\n",
    "\n",
    "print(\"adaboostClassifier f1_score\",f1_score(y_test,pred,average='micro'))"
   ]
  },
  {
   "cell_type": "code",
   "execution_count": 4,
   "metadata": {},
   "outputs": [
    {
     "name": "stdout",
     "output_type": "stream",
     "text": [
      "KNeighbours F1_score: 1.0\n"
     ]
    }
   ],
   "source": [
    "from sklearn.model_selection import train_test_split\n",
    "from sklearn.neighbors import KNeighborsClassifier\n",
    "from sklearn.metrics import f1_score\n",
    "from sklearn.decomposition import PCA\n",
    "from sklearn.datasets import load_iris  \n",
    "\n",
    "data = load_iris()\n",
    "X = data.data\n",
    "y = data.target\n",
    "x_train, x_test, y_train, y_test = train_test_split(X, y, test_size=0.2, random_state=42)\n",
    "pca = PCA(n_components=0.95)  \n",
    "x_train_reduced = pca.fit_transform(x_train)\n",
    "x_test_reduced = pca.transform(x_test)\n",
    "neigh = KNeighborsClassifier(n_neighbors=5, algorithm='ball_tree', n_jobs=-1)\n",
    "neigh.fit(x_train_reduced, y_train)\n",
    "pred = neigh.predict(x_test_reduced)\n",
    "print(\"KNeighbours F1_score:\", f1_score(y_test, pred, average='micro'))\n"
   ]
  },
  {
   "cell_type": "code",
   "execution_count": 28,
   "metadata": {},
   "outputs": [
    {
     "data": {
      "image/png": "[encoded data removed]",
      "text/plain": [
       "<Figure size 640x480 with 1 Axes>"
      ]
     },
     "metadata": {},
     "output_type": "display_data"
    }
   ],
   "source": [
    "import matplotlib.pyplot as plt\n",
    "\n",
    "lab = ['kn', 'nb', 'sgdc', 'ada', 'rf', 'log']\n",
    "f1_scores = [1.0, 0.7896248068253519, 0.6, 0.8518369499285215, 0.8294820328526448, 1.0]\n",
    "\n",
    "plt.bar(lab, f1_scores, color='pink')\n",
    "plt.xlabel(\"Classifiers\")\n",
    "plt.ylabel(\"F1 Scores\")\n",
    "plt.title(\"F1 Scores of Classifiers\")\n",
    "plt.show()\n"
   ]
  },
  {
   "cell_type": "code",
   "execution_count": 36,
   "metadata": {},
   "outputs": [
    {
     "data": {
      "image/png": "[encoded data removed]",
      "text/plain": [
       "<Figure size 640x480 with 1 Axes>"
      ]
     },
     "metadata": {},
     "output_type": "display_data"
    }
   ],
   "source": [
    "import matplotlib.pyplot as plt\n",
    "\n",
    "lab = ['KNeighbors', 'Logistic']\n",
    "f1_scores = [1.0, 1.0]\n",
    "\n",
    "plt.bar(lab, f1_scores, color='green')\n",
    "plt.xlabel(\"Classifiers\")\n",
    "plt.ylabel(\"F1 Scores\")\n",
    "plt.title(\"F1 Scores of Classifiers\")\n",
    "plt.show()"
   ]
  },
  {
   "cell_type": "code",
   "execution_count": 38,
   "metadata": {},
   "outputs": [
    {
     "data": {
      "image/png": "[encoded data removed]",
      "text/plain": [
       "<Figure size 640x480 with 1 Axes>"
      ]
     },
     "metadata": {},
     "output_type": "display_data"
    }
   ],
   "source": [
    "import matplotlib.pyplot as plt\n",
    "\n",
    "lab = ['KNeighbors', 'Logistic','adaboost']\n",
    "f1_scores = [1.0, 1.0,0.85]\n",
    "\n",
    "plt.bar(lab, f1_scores, color='orange')\n",
    "plt.xlabel(\"Classifiers\")\n",
    "plt.ylabel(\"F1 Scores\")\n",
    "plt.title(\"F1 Scores of Classifiers\")\n",
    "plt.show()"
   ]
  },
  {
   "cell_type": "code",
   "execution_count": null,
   "metadata": {},
   "outputs": [],
   "source": []
  }
 ],
 "metadata": {
  "kernelspec": {
   "display_name": "Python 3 (ipykernel)",
   "language": "python",
   "name": "python3"
  },
  "language_info": {
   "codemirror_mode": {
    "name": "ipython",
    "version": 3
   },
   "file_extension": ".py",
   "mimetype": "text/x-python",
   "name": "python",
   "nbconvert_exporter": "python",
   "pygments_lexer": "ipython3",
   "version": "3.12.4"
  }
 },
 "nbformat": 4,
 "nbformat_minor": 4
}
